{
 "cells": [
  {
   "cell_type": "markdown",
   "metadata": {},
   "source": [
    "# Results"
   ]
  },
  {
   "cell_type": "markdown",
   "metadata": {},
   "source": [
    "This notebook focuses only on the results exploitation, based on the raw data made during experiments for reproducibility."
   ]
  },
  {
   "cell_type": "markdown",
   "metadata": {},
   "source": [
    "Set the system name"
   ]
  },
  {
   "cell_type": "code",
   "execution_count": null,
   "metadata": {},
   "outputs": [],
   "source": [
    "system_name = \"Apache\""
   ]
  },
  {
   "cell_type": "markdown",
   "metadata": {},
   "source": [
    "Load the dataset"
   ]
  },
  {
   "cell_type": "code",
   "execution_count": null,
   "metadata": {},
   "outputs": [],
   "source": [
    "import pandas as pd\n",
    "import json\n",
    "import numpy\n",
    "\n",
    "def get_dataset(name):\n",
    "    if name == \"Linux\":\n",
    "        with open(\"datasets/Linux_options.json\",\"r\") as f:\n",
    "            linux_options = json.load(f)\n",
    "        # Load csv by setting options as int8 to save a lot of memory\n",
    "        return pd.read_csv(\"datasets/Linux.csv\", dtype={f:numpy.int8 for f in linux_options})\n",
    "    else :\n",
    "        return pd.read_csv(\"datasets/{}.csv\".format(name))\n",
    "    \n",
    "df = get_dataset(system_name)"
   ]
  },
  {
   "cell_type": "markdown",
   "metadata": {},
   "source": [
    "Load the results"
   ]
  },
  {
   "cell_type": "code",
   "execution_count": null,
   "metadata": {},
   "outputs": [],
   "source": [
    "df_classification = pd.read_csv(\"results/%s/classification.csv\" % system_name)\n",
    "df_classification_fs = pd.read_csv(\"results/%s/classification_fs.csv\" % system_name)\n",
    "df_regression = pd.read_csv(\"results/%s/regression.csv\" % system_name)\n",
    "df_regression_fs = pd.read_csv(\"results/%s/regression_fs.csv\" % system_name)\n",
    "df_spec_regression = pd.read_csv(\"results/%s/spec_regression.csv\" % system_name)\n",
    "df_spec_regression_fs = pd.read_csv(\"results/%s/spec_regression_fs.csv\" % system_name)"
   ]
  },
  {
   "cell_type": "code",
   "execution_count": null,
   "metadata": {},
   "outputs": [],
   "source": [
    "df_classification"
   ]
  },
  {
   "cell_type": "markdown",
   "metadata": {},
   "source": [
    "## Reproduce the tables"
   ]
  },
  {
   "cell_type": "code",
   "execution_count": null,
   "metadata": {},
   "outputs": [],
   "source": [
    "df_all = pd.concat([df_classification, df_classification_fs, df_regression, df_regression_fs, df_spec_regression, df_spec_regression_fs])\n",
    "\n",
    "s = system_name\n",
    "s += \" & \"\n",
    "s += \"{:.1f}\\\\%\".format(df_all.groupby([\"threshold\",\"training_size\"])[\"mean\"].max().unstack('threshold').loc[0.7].mean() * 100)\n",
    "s += r\" ($\\pm${:.1f})\".format(df_all.groupby([\"threshold\",\"training_size\"])[\"mean\"].max().unstack('threshold').loc[0.7].std() * 100)\n",
    "s += \" & \"\n",
    "s += \"{:.1f}\\\\%\".format(df_classification.groupby([\"threshold\",\"training_size\"])[\"mean\"].max().unstack('threshold').loc[0.7].mean() * 100)\n",
    "s += r\" ($\\pm${:.1f})\".format(df_classification.groupby([\"threshold\",\"training_size\"])[\"mean\"].max().unstack('threshold').loc[0.7].std() * 100)\n",
    "s += \" & \"\n",
    "s += \"{:.1f}\\\\%\".format(df_classification_fs.groupby([\"threshold\",\"training_size\"])[\"mean\"].max().unstack('threshold').loc[0.7].mean() * 100)\n",
    "s += r\" ($\\pm${:.1f})\".format(df_classification_fs.groupby([\"threshold\",\"training_size\"])[\"mean\"].max().unstack('threshold').loc[0.7].std() * 100)\n",
    "s += \" & \"\n",
    "s += \"{:.1f}\".format(df_regression.groupby([\"threshold\",\"training_size\"])[\"mean\"].max().unstack('threshold').loc[0.7].mean() * 100)\n",
    "s += r\" ($\\pm${:.1f})\".format(df_regression.groupby([\"threshold\",\"training_size\"])[\"mean\"].max().unstack('threshold').loc[0.7].std() * 100)\n",
    "s += \" & \"\n",
    "s += \"{:.1f}\\\\%\".format(df_regression_fs.groupby([\"threshold\",\"training_size\"])[\"mean\"].max().unstack('threshold').loc[0.7].mean() * 100)\n",
    "s += r\" ($\\pm${:.1f})\".format(df_regression_fs.groupby([\"threshold\",\"training_size\"])[\"mean\"].max().unstack('threshold').loc[0.7].std() * 100)\n",
    "s += \" & \"\n",
    "s += \"{:.1f}\\\\%\".format(df_spec_regression.groupby([\"threshold\",\"training_size\"])[\"mean\"].max().unstack('threshold').loc[0.7].mean() * 100)\n",
    "s += r\" ($\\pm${:.1f})\".format(df_spec_regression.groupby([\"threshold\",\"training_size\"])[\"mean\"].max().unstack('threshold').loc[0.7].std() * 100)\n",
    "s += \" & \"\n",
    "s += \"{:.1f}\\\\%\".format(df_spec_regression_fs.groupby([\"threshold\",\"training_size\"])[\"mean\"].max().unstack('threshold').loc[0.7].mean() * 100)\n",
    "s += r\" ($\\pm${:.1f})\".format(df_spec_regression_fs.groupby([\"threshold\",\"training_size\"])[\"mean\"].max().unstack('threshold').loc[0.7].std() * 100)\n",
    "\n",
    "print(s)"
   ]
  },
  {
   "cell_type": "code",
   "execution_count": null,
   "metadata": {},
   "outputs": [],
   "source": [
    "print(\"\\\\begin{table*}\")\n",
    "print(\"\\\\begin{tabular}{ |l|ccccc| }\")\n",
    "print(\"\\\\hline\")\n",
    "print(\"\\\\multirow{2}{*}{Training set size} & \\\\multicolumn{4}{c}{\\\\hspace{2cm}Acceptable configurations} & \\\\\\\\\")\n",
    "\n",
    "print(\"  &  10\\% & 20\\% & 50\\% & 80\\% & 90\\% \\\\\\\\\")\n",
    "\n",
    "print(\"\\\\hline \\\\hline\")\n",
    "print(\"&\\\\multicolumn{5}{c|}{\\\\textbf{Classification}}&\")\n",
    "print(\"\\\\hline\")\n",
    "\n",
    "for k,i in df_classification.groupby([\"threshold\",\"training_size\"])[\"mean\"].max().unstack('threshold').iterrows():\n",
    "    s = \"{:.0f}\".format(int(k* df.shape[0]))\n",
    "    for l,j in i.iteritems():\n",
    "        j_fs = df_classification_fs.groupby([\"threshold\",\"training_size\"])[\"mean\"].max().unstack('threshold').loc[k,l]\n",
    "        diff = j_fs - j\n",
    "        j_best = j_fs if j_fs > j else j\n",
    "        best = j_best == df_all.groupby([\"threshold\",\"training_size\"])[\"mean\"].max().unstack('threshold').loc[k,l]\n",
    "        color = \"\\\\textcolor{ForestGreen}{+\" if diff > 0 else \"\\\\textcolor{red}{-\"\n",
    "        if abs(diff) <= 0.01:\n",
    "            color = color.replace(\"red\",\"gray\").replace(\"ForestGreen\",\"gray\")\n",
    "        s += \" & {}{:.1f}{} ({}{:0.1f}{})\".format(\n",
    "            \"\\\\textbf{\" if best else \"\", \n",
    "            j_best*100, \n",
    "            \"}\" if best else \"\", \n",
    "            color,\n",
    "            abs(diff*100),\n",
    "            \"}\"\n",
    "        )\n",
    "    s += \" \\\\\\\\\"\n",
    "    print(s)\n",
    "    \n",
    "print(\"\\\\hline \\\\hline\")\n",
    "print(\"&\\\\multicolumn{5}{c|}{\\\\textbf{Regression}}&\")\n",
    "print(\"\\\\hline\")\n",
    "for k,i in df_regression.groupby([\"threshold\",\"training_size\"])[\"mean\"].max().unstack('threshold').iterrows():\n",
    "    s = \"{:.0f}\".format(int(k* df.shape[0]))\n",
    "    for l,j in i.iteritems():\n",
    "        j_fs = df_regression_fs.groupby([\"threshold\",\"training_size\"])[\"mean\"].max().unstack('threshold').loc[k,l]\n",
    "        diff = j_fs - j\n",
    "        j_best = j_fs if j_fs > j else j\n",
    "        best = j_best == df_all.groupby([\"threshold\",\"training_size\"])[\"mean\"].max().unstack('threshold').loc[k,l]\n",
    "        color = \"\\\\textcolor{ForestGreen}{+\" if diff > 0 else \"\\\\textcolor{red}{-\"\n",
    "        color = color if diff >= 0.01 or diff <= -0.01 else \"\\\\textcolor{gray}{+\"\n",
    "        \n",
    "        s += \" & {}{:.1f}{} ({}{:0.1f}{})\".format(\n",
    "            \"\\\\textbf{\" if best else \"\", \n",
    "            j_best*100, \n",
    "            \"}\" if best else \"\", \n",
    "            color,\n",
    "            abs(diff*100),\n",
    "            \"}\"\n",
    "        )\n",
    "    s += \" \\\\\\\\\"\n",
    "    print(s)\n",
    "\n",
    "print(\"\\\\hline \\\\hline\")\n",
    "print(\"&\\\\multicolumn{5}{c|}{\\\\textbf{Specialized Regression}}&\")\n",
    "print(\"\\\\hline\")\n",
    "for k,i in df_spec_regression.groupby([\"threshold\",\"training_size\"])[\"mean\"].max().unstack('threshold').iterrows():\n",
    "    s = \"{:.0f}\".format(int(k* df.shape[0]))\n",
    "    for l,j in i.iteritems():\n",
    "        j_fs = df_spec_regression_fs.groupby([\"threshold\",\"training_size\"])[\"mean\"].max().unstack('threshold').loc[k,l]\n",
    "        diff = j_fs - j\n",
    "        j_best = j_fs if j_fs > j else j\n",
    "        best = j_best == df_all.groupby([\"threshold\",\"training_size\"])[\"mean\"].max().unstack('threshold').loc[k,l]\n",
    "        color = \"\\\\textcolor{ForestGreen}{+\" if diff > 0 else \"\\\\textcolor{red}{-\"\n",
    "        color = color if diff >= 0.01 or diff <= -0.01 else \"\\\\textcolor{gray}{+\"\n",
    "        s += \" & {}{:.1f}{} ({}{:0.1f}{})\".format(\n",
    "            \"\\\\textbf{\" if best else \"\", \n",
    "            j_best*100, \n",
    "            \"}\" if best else \"\", \n",
    "            color,\n",
    "            abs(diff*100),\n",
    "            \"}\"\n",
    "        )\n",
    "    s += \" \\\\\\\\\"\n",
    "    print(s)\n",
    "    \n",
    "print(\"\\\\hline\")\n",
    "print(\"\\\\end{tabular}\")\n",
    "print(\"\\\\caption{Decision tree classification accuracy on performance specialization for\", system_name, \n",
    "      \"on three strategies. Bold represents the best result among other strategies including feature selection, the value in brackets is the difference made by feature selection\\\\label{tab:\" + system_name.lower() + \"}}\")\n",
    "print(\"\\\\end{table*}\")"
   ]
  },
  {
   "cell_type": "code",
   "execution_count": null,
   "metadata": {},
   "outputs": [],
   "source": []
  }
 ],
 "metadata": {
  "kernelspec": {
   "display_name": "Python 3.8",
   "language": "python",
   "name": "python38"
  },
  "language_info": {
   "codemirror_mode": {
    "name": "ipython",
    "version": 3
   },
   "file_extension": ".py",
   "mimetype": "text/x-python",
   "name": "python",
   "nbconvert_exporter": "python",
   "pygments_lexer": "ipython3",
   "version": "3.8.2"
  }
 },
 "nbformat": 4,
 "nbformat_minor": 4
}
